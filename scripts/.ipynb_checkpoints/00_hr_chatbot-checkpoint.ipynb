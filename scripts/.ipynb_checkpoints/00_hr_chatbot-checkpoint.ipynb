{
 "cells": [
  {
   "cell_type": "markdown",
   "metadata": {},
   "source": [
    "# Create an AI-powered chatbot to answer HR-related questions"
   ]
  },
  {
   "cell_type": "markdown",
   "metadata": {},
   "source": [
    "### Setup the environment"
   ]
  },
  {
   "cell_type": "markdown",
   "metadata": {},
   "source": [
    "Import required libraries"
   ]
  },
  {
   "cell_type": "code",
   "execution_count": 1,
   "metadata": {},
   "outputs": [],
   "source": [
    "#import dynamically \"pysqlite3\"\n",
    "__import__(\"pysqlite3\")\n",
    "\n",
    "#then aliased to \"sqlite3\" in the sys.module dictionary\n",
    "import sys\n",
    "sys.modules[\"sqlite3\"] = sys.modules[\"pysqlite3\"]\n",
    "    #This means that any subsequent import of sqlite3 will actually use the pysqlite3 module.\n",
    "    #sqlite3 is the standard library module for SQLite in Python, while pysqlite3 is a third-party \n",
    "    #alternative that may offer additional features or updates.\n",
    "\n",
    "#other libraries\n",
    "import os\n",
    "import openai\n",
    "import sys"
   ]
  },
  {
   "cell_type": "markdown",
   "metadata": {},
   "source": [
    "Before running this notebook, please set the environmental variable OPENAI_API_KEY"
   ]
  },
  {
   "cell_type": "markdown",
   "metadata": {},
   "source": [
    "## Define the document loader"
   ]
  },
  {
   "cell_type": "markdown",
   "metadata": {},
   "source": [
    "We will use PyPDFLoader"
   ]
  },
  {
   "cell_type": "code",
   "execution_count": 2,
   "metadata": {},
   "outputs": [],
   "source": [
    "from langchain.document_loaders import PyPDFLoader\n",
    "    #pip install langchain langchain_core langchain_openai langchain_qdrant langchain_text_splitters\n",
    "    #pip install --upgrade langchain_community pypdf"
   ]
  },
  {
   "cell_type": "markdown",
   "metadata": {},
   "source": [
    "Load the information contained in the PDF"
   ]
  },
  {
   "cell_type": "code",
   "execution_count": 3,
   "metadata": {},
   "outputs": [
    {
     "data": {
      "text/plain": [
       "[Document(page_content='Policy\\nMandatorySeptember\\u2009 \\u20092012\\nThe Nestlé  \\nHuman Resources Policy', metadata={'source': '../data/1728286846_the_nestle_hr_policy_pdf_2012.pdf', 'page': 0}),\n",
       " Document(page_content='Policy\\nMandatorySeptember\\u2009\\n\\u200920\\n12Issuing \\u2009departement\\nHum\\nan Resources\\nTarget \\u2009audience \\u2009\\nAll\\n employees\\nApprover\\nExecutive Board, Nestlé S.A.\\nRepository\\nAll Nestlé Principles and Policies, Standards and  Guidelines can be found in the Centre online repository at:  http://intranet.nestle.com/nestledocs\\nCopyright\\n\\u2009and\\u2009confidentiality\\nAl\\nl rights belong to Nestec Ltd., Vevey, Switzerland.\\n© 2012, Nestec Ltd.\\nDesign\\nNestec Ltd., Corporate Identity & Design,  Vevey, Switzerland\\nProduction\\nbrain’print GmbH, Switzerland\\nPaper\\nThis report is printed on BVS, a paper produced  from well-managed forests and other controlled sources  certified by the Forest Stewardship Council (FSC).', metadata={'source': '../data/1728286846_the_nestle_hr_policy_pdf_2012.pdf', 'page': 1}),\n",
       " Document(page_content='The Nestlé Human Resources Policy1\\nAt Nestlé, we recognize that our employees \\nare the key to our success and nothing can be \\nachieved without their engagement. \\nThis document encompasses the guidelines \\nwhich constitute a solid basis for effective Human \\nResources Management throughout the Nestlé \\nGroup around the world. It explains to all Nestlé \\nemployees the vision and mission of the Human Resources function and illustrates every aspect of the Nestlé employee lifecycle. \\nThe Nestlé Management and Leadership \\nPrinciples inspire all the Nestlé employees in their actions and in their dealings with others. The \\nCorporate Business Principles refer to all the basic \\nprinciples which Nestlé endorses and subscribes to on a worldwide basis. Both these documents are the pillars on which the present policy has \\nbeen built.\\nThe implementation of this policy will be \\ninspired by sound judgement, compliance with \\nlocal market laws and common sense, taking into \\naccount the specific context. Its spirit should be \\nrespected under all circumstances and could be summarised in one sentence: At Nestlé we put people at the centre of everything we do.\\nJean-Marc Duvoisin\\nDeputy Executive Vice President Introduction', metadata={'source': '../data/1728286846_the_nestle_hr_policy_pdf_2012.pdf', 'page': 2}),\n",
       " Document(page_content='The Nestlé Human Resources Policy2\\nLine managers have the prime responsibility for \\nbuilding and sustaining an environment where \\npeople have a sense of personal commitment \\nto their work and give their best to ensure our Company’s success. They care for and develop the leaders of tomorrow.\\nLine managers decide on all people matters \\nunder their influence, within the boundaries set by the policies and principles, acting as the final decision makers.\\nThe Human Resources (HR) structure \\nenables and empowers them in establishing business needs and their corresponding people \\nrequirements. \\nTherefore, the mission of HR managers and \\ntheir teams is to provide professional guidance \\nto line managers aiming to deliver superior \\nbusiness results by optimising the performance \\nof our people, while ensuring exemplary working conditions. With a ‘Nestlé in the Market’ (NiM) approach, \\nHR has adopted a streamlined approach to \\nensuring functional leadership and the highest \\nlevel of focus, clarity, and efficiency. Our structure is based on three dedicated areas which provide specialized services (Centres of Expertise), \\ndeploy HR  strategies within a specific business \\n(Business Partners) and perform transactional activities (Employee Services). A shared responsibility\\nThe long-term success of the Company depends on its capacity to attract, retain and \\ndevelop employees able to ensure ongoing \\nand sustainable growth. This is a primary responsibility of all managers.\\nThe Nestlé policy is to hire employees with \\npersonal attitudes and professional skills enabling them to develop a long-term relationship with the Company. Therefore, special attention will be paid to ensure there is a strong alignment between a \\ncandidate’s values and the Nestlé culture.Only relevant skills and experience and \\nadherence to the Nestlé principles will \\nbe considered in employing a person. No consideration will be given to a candidate’s origin, nationality, religion, race, gender, disability, sexual \\norientation or age.\\nWhilst adequate recruitment tools may \\nimprove the hiring process, the decision to hire a \\ncandidate remains in the hands of the responsible \\nmanager, supported by the HR team.  Joining Nestlé', metadata={'source': '../data/1728286846_the_nestle_hr_policy_pdf_2012.pdf', 'page': 3}),\n",
       " Document(page_content='The Nestlé Human Resources Policy3\\n Total rewards\\nAttracting new hires and keeping current \\nemployees engaged is not only about \\nremuneration and benefits based on solid \\nperformance. It is also about the hard earned value and trust that our name brings to those who work with us; the relationships with our line \\nmanagers and fellow workers; recognition and \\nexperiences enjoyed while working for a diverse global company; and possibilities to learn and grow. These are as a whole, the Total Rewards we \\nreceive.\\nNestlé, therefore, focuses on Fixed Pay, \\nVariable Pay, Benefits, Personal Growth and Development and Work Life Environment as the \\nkey elements that define Total Rewards. In the spirit of developing a high performance culture, those elements need to correspond to what is \\nvalued by employees in each and every market, \\nand which demonstrate how Nestlé is committed to giving each employee the opportunity to grow, evolve and contribute.Nestlé Total Rewards programmes must be \\nestablished within the social and legal framework \\nof each country, and with respect to applicable \\ncollective agreements. \\nIt is the responsibility of each manager to \\npropose the remuneration of their employees \\nwithin the framework of Company policy. \\nSufficient time should be spent with each employee to explain her or his specific situation in terms of remuneration and benefits, if needed \\nwith the support of HR management, in order to \\ncommunicate properly, clearly and with sufficient transparency.\\nCorporate policy: \\nNestlé Total Rewards PolicyWe are committed to providing our employees all over the world with good working conditions, a safe and healthy work environment, and flexible \\nemployment possibilities that support a better \\nbalance of private and professional life consistent with our ambition as a leading Nutrition, Health and Wellness Company.\\nAs such, we provide flexible working \\nconditions whenever possible and encourage our employees to have outside interests especially \\ncommunity involvement. \\nThose with line management responsibilities \\nare required to take personal ownership of safety \\nand health within their area of responsibility and \\nare encouraged to develop their capability in this \\narea.\\nNestlé’s commitment however goes beyond \\nits own employees. We care about all people \\nworking inside or outside our premises under contractual obligations with service providers and we insist that they also take steps so that \\nadequate working conditions are made available to them.\\nWe believe that it is essential to build a \\nrelationship based on trust and respect of employees at all levels. We do not tolerate any form of harassment or discrimination.\\nTherefore, managers are committed to build \\nand sustain, with their teams, an environment of mutual trust. HR ensures that a respectful dialogue is present and the voice of the \\nemployees is heard.\\nCorporate policy: \\nPolicy on Conditions of Work and Employment Employment and working conditions ', metadata={'source': '../data/1728286846_the_nestle_hr_policy_pdf_2012.pdf', 'page': 4}),\n",
       " Document(page_content='The Nestlé Human Resources Policy4\\nLearning is part of the Company culture.\\nEmployees at all levels are systematically \\nencouraged to consider how they upgrade their \\nknowledge and skills.\\nThe Company determines training and deve-\\nlopment priorities. The responsibility for turning \\nthese into actions is shared between employees, \\nline managers and the Human Resources. \\nExperience and on-the-job training are the \\nprimary source of learning. Managers are \\nresponsible for guiding and coaching employees \\nto succeed in their current positions.  \\nNestlé employees understand the importance \\nof continuous improvement, as well as sharing knowledge and ideas freely with others. Practices such as lateral professional development, extension of responsibilities, and cross functional teams are encouraged to acquire additional skills, enrich job content and widen accountability.\\nNestlé also offers a comprehensive range of \\ntraining activities and methodologies to support \\neveryone’s learning and growth. Attending \\na programme should never be considered as a reward but as a component of on-going \\ndevelopment.\\nAdditionally, corporate leadership programmes \\nhelp us develop and retain the best-qualified \\nmanagement. Leaders have the opportunity \\nto attend either international training courses \\nat Rive-Reine, which build integrated business understanding and solidify and reinforce Nestlé values and principles, or programmes conducted \\nby our strategic learning partners.  Training and learning\\nAt Nestlé, a high performance culture supported by  \\ndifferentiated rewards and development is key to \\nthe delivery of individual and business objectives.  \\nThis is driven by the alignment of clear and chal-  \\nlenging responsibilities and ensuring that employ-\\nees are aware of how their work impacts Nestlé.\\nThe line manager and employee work together \\nto ensure that challenging objectives are set and  \\neffectively evaluated throughout the year. This \\nfurther enables managers to acknowledge high performance and reward employees accordingly, while ensuring low performance is properly \\nmanaged with integrity.\\nEmployees receive regular feedback on their \\nperformance and career aspirations through a variety of tools and processes such as the \\nPerformance Evaluation process (PE), the  Progress and Development Guide (PDG) and  360° assessments. Each manager dedicates the \\nnecessary time to the monitoring of objectives and \\nregular coaching of employees through the year. \\nEach employee, supported by the line manager, \\nis in charge of her or his own professional \\ndevelopment, whereby the employee is \\nencouraged to express career objectives and expectations in an open dialogue. We aim to retain and motivate employees by offering attractive but \\nrealistic career moves allowing them to develop \\ntheir skills in the long-term.Given the importance Nestlé puts on cultural \\ndiversity, employees who are interested in inter-national assignments can be given the opportunity to work in different countries. The international dimension of the Group is used as a competitive \\nadvantage to retain and develop talented people.\\nAt Nestlé, promotions are based on sustained \\nperformance from a results and behaviour standpoint, as well as future potential. The \\nCompany undertakes an active and rigorous succession planning process at all levels of the organisation to ensure that there is a strong \\npipeline of successors ready to meet future needs.   \\nWe are committed to ensuring sustainable \\nconditions for a gender balanced and diverse company. As such, Nestlé has focused on remo-\\nving barriers to career progression for women and men by developing a more flexible work environment, initiating mentoring schemes, \\nhaving flexible career paths and providing dual \\ncareer support.\\nHR management provides the support for \\nimplementing the necessary tools, and partners \\nwith line managers to prepare the resources \\nnecessary for the continued development of people and the Company.\\nCorporate policy: \\nExpatriation Policy Talent, development  \\n and performance management', metadata={'source': '../data/1728286846_the_nestle_hr_policy_pdf_2012.pdf', 'page': 5}),\n",
       " Document(page_content='The Nestlé Human Resources Policy5\\nSince its founding, Nestlé has built a culture \\nbased on values of trust, mutual respect and \\ndialogue. Nestlé management and employees all \\nover the world work daily to create and maintain positive individual and collective relationships, and are expected to do so as a core part of their \\njob.\\nNestlé not only upholds the freedom of \\nassociation of its employees and the effective \\nrecognition of the right to collective bargaining, \\nbut also ensures that direct and frequent \\ncommunication is established in the workplace. While dialogue with trade unions is essential, it \\ndoes not replace the close relationship that our \\nmanagement maintains with all employees.\\nIn the spirit of continuous improvement, we \\nencourage two-way dialogue with our employees that goes beyond the traditional aspects of collective bargaining in order to share knowledge and to jointly find opportunities related to important matters such as Creating Shared Value, \\nthe health and safety in the workplace and our \\nconcern for the environment.\\nThe Company and employee representatives \\nare expected to make all necessary efforts to develop fair and constructive dialogues, overcome the difficulties that they might encounter, reach sustainable agreements and \\nimplement them.\\nCorporate policy: \\nThe Nestlé Employee Relations Policy Employee relations\\nThe Human Resources management described in this document requires and supports an \\norganisation “on the move”. \\nNestlé is committed to continue the journey \\nto establishing flat and flexible structures with \\nminimal levels of management and broad spans \\nof control, which enable people development, \\nincrease efficiency, and ease implementation of our “Nestlé Management and Leadership Principles”.\\nLess hierarchical layers call for increased \\ncooperation between colleagues. This is what will make the organisation more flexible and \\nmore accountable. Indeed, it supports today’s \\nand tomorrow’s business requirements for an agile and innovative company working with ever competitive intensity.\\nThese simple beliefs have inspired us to create \\nan environment that puts the emphasis not just on individual responsibility and autonomy, but also on a strong willingness to support others, to work \\nin multi-skilled teams, and to cooperate rather \\nthan to compete internally.\\nA dynamic organisation creates a climate \\nof innovation and allows people to think from \\ndifferent perspectives. At Nestlé we encourage \\nour people to take risks. Mistakes may be made but there is always a willingness to correct and learn from them.\\nWe combine the scope and brand strength \\nof a global company with the creativity and knowledge of a local business. As a result, people \\ncan have far-reaching influence every day and \\nexplore their full long-term potential, propelled by continual support and a collaborative approach by line managers and employees.\\nCorporate policy: \\nNestlé on the Move A flexible and dynamic organisation', metadata={'source': '../data/1728286846_the_nestle_hr_policy_pdf_2012.pdf', 'page': 6}),\n",
       " Document(page_content='', metadata={'source': '../data/1728286846_the_nestle_hr_policy_pdf_2012.pdf', 'page': 7})]"
      ]
     },
     "execution_count": 3,
     "metadata": {},
     "output_type": "execute_result"
    }
   ],
   "source": [
    "Doc_loader = PyPDFLoader(\"../data/1728286846_the_nestle_hr_policy_pdf_2012.pdf\")\n",
    "extracted_text = Doc_loader.load()\n",
    "extracted_text"
   ]
  },
  {
   "cell_type": "markdown",
   "metadata": {},
   "source": [
    "Break down big pieces of text into smaller parts."
   ]
  },
  {
   "cell_type": "code",
   "execution_count": 4,
   "metadata": {},
   "outputs": [
    {
     "data": {
      "text/plain": [
       "[Document(page_content='Policy\\nMandatorySeptember\\u2009 \\u20092012\\nThe Nestlé  \\nHuman Resources Policy', metadata={'source': '../data/1728286846_the_nestle_hr_policy_pdf_2012.pdf', 'page': 0}),\n",
       " Document(page_content='Policy\\nMandatorySeptember\\u2009\\n\\u200920\\n12Issuing \\u2009departement\\nHum\\nan Resources\\nTarget \\u2009audience \\u2009\\nAll\\n employees\\nApprover\\nExecutive Board, Nestlé S.A.', metadata={'source': '../data/1728286846_the_nestle_hr_policy_pdf_2012.pdf', 'page': 1}),\n",
       " Document(page_content='Repository', metadata={'source': '../data/1728286846_the_nestle_hr_policy_pdf_2012.pdf', 'page': 1}),\n",
       " Document(page_content='All Nestlé Principles and Policies, Standards and  Guidelines can be found in the Centre online repository at:  http://intranet.nestle.com/nestledocs', metadata={'source': '../data/1728286846_the_nestle_hr_policy_pdf_2012.pdf', 'page': 1}),\n",
       " Document(page_content='Copyright\\n\\u2009and\\u2009confidentiality\\nAl\\nl rights belong to Nestec Ltd., Vevey, Switzerland.\\n© 2012, Nestec Ltd.\\nDesign', metadata={'source': '../data/1728286846_the_nestle_hr_policy_pdf_2012.pdf', 'page': 1}),\n",
       " Document(page_content='Nestec Ltd., Corporate Identity & Design,  Vevey, Switzerland\\nProduction\\nbrain’print GmbH, Switzerland\\nPaper', metadata={'source': '../data/1728286846_the_nestle_hr_policy_pdf_2012.pdf', 'page': 1}),\n",
       " Document(page_content='This report is printed on BVS, a paper produced  from well-managed forests and other controlled sources  certified by the Forest Stewardship Council', metadata={'source': '../data/1728286846_the_nestle_hr_policy_pdf_2012.pdf', 'page': 1}),\n",
       " Document(page_content='(FSC).', metadata={'source': '../data/1728286846_the_nestle_hr_policy_pdf_2012.pdf', 'page': 1}),\n",
       " Document(page_content='The Nestlé Human Resources Policy1\\nAt Nestlé, we recognize that our employees \\nare the key to our success and nothing can be', metadata={'source': '../data/1728286846_the_nestle_hr_policy_pdf_2012.pdf', 'page': 2}),\n",
       " Document(page_content='achieved without their engagement. \\nThis document encompasses the guidelines \\nwhich constitute a solid basis for effective Human', metadata={'source': '../data/1728286846_the_nestle_hr_policy_pdf_2012.pdf', 'page': 2}),\n",
       " Document(page_content='Resources Management throughout the Nestlé \\nGroup around the world. It explains to all Nestlé', metadata={'source': '../data/1728286846_the_nestle_hr_policy_pdf_2012.pdf', 'page': 2}),\n",
       " Document(page_content='employees the vision and mission of the Human Resources function and illustrates every aspect of the Nestlé employee lifecycle.', metadata={'source': '../data/1728286846_the_nestle_hr_policy_pdf_2012.pdf', 'page': 2}),\n",
       " Document(page_content='The Nestlé Management and Leadership \\nPrinciples inspire all the Nestlé employees in their actions and in their dealings with others. The', metadata={'source': '../data/1728286846_the_nestle_hr_policy_pdf_2012.pdf', 'page': 2}),\n",
       " Document(page_content='Corporate Business Principles refer to all the basic', metadata={'source': '../data/1728286846_the_nestle_hr_policy_pdf_2012.pdf', 'page': 2}),\n",
       " Document(page_content='principles which Nestlé endorses and subscribes to on a worldwide basis. Both these documents are the pillars on which the present policy has', metadata={'source': '../data/1728286846_the_nestle_hr_policy_pdf_2012.pdf', 'page': 2}),\n",
       " Document(page_content='been built.\\nThe implementation of this policy will be \\ninspired by sound judgement, compliance with \\nlocal market laws and common sense, taking into', metadata={'source': '../data/1728286846_the_nestle_hr_policy_pdf_2012.pdf', 'page': 2}),\n",
       " Document(page_content='account the specific context. Its spirit should be', metadata={'source': '../data/1728286846_the_nestle_hr_policy_pdf_2012.pdf', 'page': 2}),\n",
       " Document(page_content='respected under all circumstances and could be summarised in one sentence: At Nestlé we put people at the centre of everything we do.', metadata={'source': '../data/1728286846_the_nestle_hr_policy_pdf_2012.pdf', 'page': 2}),\n",
       " Document(page_content='Jean-Marc Duvoisin\\nDeputy Executive Vice President Introduction', metadata={'source': '../data/1728286846_the_nestle_hr_policy_pdf_2012.pdf', 'page': 2}),\n",
       " Document(page_content='The Nestlé Human Resources Policy2\\nLine managers have the prime responsibility for \\nbuilding and sustaining an environment where', metadata={'source': '../data/1728286846_the_nestle_hr_policy_pdf_2012.pdf', 'page': 3}),\n",
       " Document(page_content='people have a sense of personal commitment', metadata={'source': '../data/1728286846_the_nestle_hr_policy_pdf_2012.pdf', 'page': 3}),\n",
       " Document(page_content='to their work and give their best to ensure our Company’s success. They care for and develop the leaders of tomorrow.', metadata={'source': '../data/1728286846_the_nestle_hr_policy_pdf_2012.pdf', 'page': 3}),\n",
       " Document(page_content='Line managers decide on all people matters', metadata={'source': '../data/1728286846_the_nestle_hr_policy_pdf_2012.pdf', 'page': 3}),\n",
       " Document(page_content='under their influence, within the boundaries set by the policies and principles, acting as the final decision makers.', metadata={'source': '../data/1728286846_the_nestle_hr_policy_pdf_2012.pdf', 'page': 3}),\n",
       " Document(page_content='The Human Resources (HR) structure \\nenables and empowers them in establishing business needs and their corresponding people \\nrequirements.', metadata={'source': '../data/1728286846_the_nestle_hr_policy_pdf_2012.pdf', 'page': 3}),\n",
       " Document(page_content='Therefore, the mission of HR managers and \\ntheir teams is to provide professional guidance \\nto line managers aiming to deliver superior', metadata={'source': '../data/1728286846_the_nestle_hr_policy_pdf_2012.pdf', 'page': 3}),\n",
       " Document(page_content='business results by optimising the performance', metadata={'source': '../data/1728286846_the_nestle_hr_policy_pdf_2012.pdf', 'page': 3}),\n",
       " Document(page_content='of our people, while ensuring exemplary working conditions. With a ‘Nestlé in the Market’ (NiM) approach, \\nHR has adopted a streamlined approach to', metadata={'source': '../data/1728286846_the_nestle_hr_policy_pdf_2012.pdf', 'page': 3}),\n",
       " Document(page_content='ensuring functional leadership and the highest', metadata={'source': '../data/1728286846_the_nestle_hr_policy_pdf_2012.pdf', 'page': 3}),\n",
       " Document(page_content='level of focus, clarity, and efficiency. Our structure is based on three dedicated areas which provide specialized services (Centres of Expertise),', metadata={'source': '../data/1728286846_the_nestle_hr_policy_pdf_2012.pdf', 'page': 3}),\n",
       " Document(page_content='deploy HR  strategies within a specific business', metadata={'source': '../data/1728286846_the_nestle_hr_policy_pdf_2012.pdf', 'page': 3}),\n",
       " Document(page_content='(Business Partners) and perform transactional activities (Employee Services). A shared responsibility', metadata={'source': '../data/1728286846_the_nestle_hr_policy_pdf_2012.pdf', 'page': 3}),\n",
       " Document(page_content='The long-term success of the Company depends on its capacity to attract, retain and \\ndevelop employees able to ensure ongoing', metadata={'source': '../data/1728286846_the_nestle_hr_policy_pdf_2012.pdf', 'page': 3}),\n",
       " Document(page_content='and sustainable growth. This is a primary responsibility of all managers.\\nThe Nestlé policy is to hire employees with', metadata={'source': '../data/1728286846_the_nestle_hr_policy_pdf_2012.pdf', 'page': 3}),\n",
       " Document(page_content='personal attitudes and professional skills enabling them to develop a long-term relationship with the Company. Therefore, special attention will be', metadata={'source': '../data/1728286846_the_nestle_hr_policy_pdf_2012.pdf', 'page': 3}),\n",
       " Document(page_content='paid to ensure there is a strong alignment between a', metadata={'source': '../data/1728286846_the_nestle_hr_policy_pdf_2012.pdf', 'page': 3}),\n",
       " Document(page_content='candidate’s values and the Nestlé culture.Only relevant skills and experience and \\nadherence to the Nestlé principles will', metadata={'source': '../data/1728286846_the_nestle_hr_policy_pdf_2012.pdf', 'page': 3}),\n",
       " Document(page_content='be considered in employing a person. No consideration will be given to a candidate’s origin, nationality, religion, race, gender, disability, sexual', metadata={'source': '../data/1728286846_the_nestle_hr_policy_pdf_2012.pdf', 'page': 3}),\n",
       " Document(page_content='orientation or age.\\nWhilst adequate recruitment tools may \\nimprove the hiring process, the decision to hire a', metadata={'source': '../data/1728286846_the_nestle_hr_policy_pdf_2012.pdf', 'page': 3}),\n",
       " Document(page_content='candidate remains in the hands of the responsible \\nmanager, supported by the HR team.  Joining Nestlé', metadata={'source': '../data/1728286846_the_nestle_hr_policy_pdf_2012.pdf', 'page': 3}),\n",
       " Document(page_content='The Nestlé Human Resources Policy3\\n Total rewards\\nAttracting new hires and keeping current \\nemployees engaged is not only about', metadata={'source': '../data/1728286846_the_nestle_hr_policy_pdf_2012.pdf', 'page': 4}),\n",
       " Document(page_content='remuneration and benefits based on solid', metadata={'source': '../data/1728286846_the_nestle_hr_policy_pdf_2012.pdf', 'page': 4}),\n",
       " Document(page_content='performance. It is also about the hard earned value and trust that our name brings to those who work with us; the relationships with our line', metadata={'source': '../data/1728286846_the_nestle_hr_policy_pdf_2012.pdf', 'page': 4}),\n",
       " Document(page_content='managers and fellow workers; recognition and', metadata={'source': '../data/1728286846_the_nestle_hr_policy_pdf_2012.pdf', 'page': 4}),\n",
       " Document(page_content='experiences enjoyed while working for a diverse global company; and possibilities to learn and grow. These are as a whole, the Total Rewards we', metadata={'source': '../data/1728286846_the_nestle_hr_policy_pdf_2012.pdf', 'page': 4}),\n",
       " Document(page_content='receive.\\nNestlé, therefore, focuses on Fixed Pay, \\nVariable Pay, Benefits, Personal Growth and Development and Work Life Environment as the', metadata={'source': '../data/1728286846_the_nestle_hr_policy_pdf_2012.pdf', 'page': 4}),\n",
       " Document(page_content='key elements that define Total Rewards. In the spirit of developing a high performance culture, those elements need to correspond to what is', metadata={'source': '../data/1728286846_the_nestle_hr_policy_pdf_2012.pdf', 'page': 4}),\n",
       " Document(page_content='valued by employees in each and every market,', metadata={'source': '../data/1728286846_the_nestle_hr_policy_pdf_2012.pdf', 'page': 4}),\n",
       " Document(page_content='and which demonstrate how Nestlé is committed to giving each employee the opportunity to grow, evolve and contribute.Nestlé Total Rewards programmes', metadata={'source': '../data/1728286846_the_nestle_hr_policy_pdf_2012.pdf', 'page': 4}),\n",
       " Document(page_content='must be', metadata={'source': '../data/1728286846_the_nestle_hr_policy_pdf_2012.pdf', 'page': 4}),\n",
       " Document(page_content='established within the social and legal framework \\nof each country, and with respect to applicable \\ncollective agreements.', metadata={'source': '../data/1728286846_the_nestle_hr_policy_pdf_2012.pdf', 'page': 4}),\n",
       " Document(page_content='It is the responsibility of each manager to \\npropose the remuneration of their employees \\nwithin the framework of Company policy.', metadata={'source': '../data/1728286846_the_nestle_hr_policy_pdf_2012.pdf', 'page': 4}),\n",
       " Document(page_content='Sufficient time should be spent with each employee to explain her or his specific situation in terms of remuneration and benefits, if needed', metadata={'source': '../data/1728286846_the_nestle_hr_policy_pdf_2012.pdf', 'page': 4}),\n",
       " Document(page_content='with the support of HR management, in order to \\ncommunicate properly, clearly and with sufficient transparency.\\nCorporate policy:', metadata={'source': '../data/1728286846_the_nestle_hr_policy_pdf_2012.pdf', 'page': 4}),\n",
       " Document(page_content='Nestlé Total Rewards PolicyWe are committed to providing our employees all over the world with good working conditions, a safe and healthy work', metadata={'source': '../data/1728286846_the_nestle_hr_policy_pdf_2012.pdf', 'page': 4}),\n",
       " Document(page_content='environment, and flexible', metadata={'source': '../data/1728286846_the_nestle_hr_policy_pdf_2012.pdf', 'page': 4}),\n",
       " Document(page_content='employment possibilities that support a better', metadata={'source': '../data/1728286846_the_nestle_hr_policy_pdf_2012.pdf', 'page': 4}),\n",
       " Document(page_content='balance of private and professional life consistent with our ambition as a leading Nutrition, Health and Wellness Company.', metadata={'source': '../data/1728286846_the_nestle_hr_policy_pdf_2012.pdf', 'page': 4}),\n",
       " Document(page_content='As such, we provide flexible working \\nconditions whenever possible and encourage our employees to have outside interests especially', metadata={'source': '../data/1728286846_the_nestle_hr_policy_pdf_2012.pdf', 'page': 4}),\n",
       " Document(page_content='community involvement. \\nThose with line management responsibilities \\nare required to take personal ownership of safety', metadata={'source': '../data/1728286846_the_nestle_hr_policy_pdf_2012.pdf', 'page': 4}),\n",
       " Document(page_content='and health within their area of responsibility and \\nare encouraged to develop their capability in this \\narea.', metadata={'source': '../data/1728286846_the_nestle_hr_policy_pdf_2012.pdf', 'page': 4}),\n",
       " Document(page_content='Nestlé’s commitment however goes beyond \\nits own employees. We care about all people', metadata={'source': '../data/1728286846_the_nestle_hr_policy_pdf_2012.pdf', 'page': 4}),\n",
       " Document(page_content='working inside or outside our premises under contractual obligations with service providers and we insist that they also take steps so that', metadata={'source': '../data/1728286846_the_nestle_hr_policy_pdf_2012.pdf', 'page': 4}),\n",
       " Document(page_content='adequate working conditions are made available to them.\\nWe believe that it is essential to build a', metadata={'source': '../data/1728286846_the_nestle_hr_policy_pdf_2012.pdf', 'page': 4}),\n",
       " Document(page_content='relationship based on trust and respect of employees at all levels. We do not tolerate any form of harassment or discrimination.', metadata={'source': '../data/1728286846_the_nestle_hr_policy_pdf_2012.pdf', 'page': 4}),\n",
       " Document(page_content='Therefore, managers are committed to build', metadata={'source': '../data/1728286846_the_nestle_hr_policy_pdf_2012.pdf', 'page': 4}),\n",
       " Document(page_content='and sustain, with their teams, an environment of mutual trust. HR ensures that a respectful dialogue is present and the voice of the', metadata={'source': '../data/1728286846_the_nestle_hr_policy_pdf_2012.pdf', 'page': 4}),\n",
       " Document(page_content='employees is heard.\\nCorporate policy: \\nPolicy on Conditions of Work and Employment Employment and working conditions', metadata={'source': '../data/1728286846_the_nestle_hr_policy_pdf_2012.pdf', 'page': 4}),\n",
       " Document(page_content='The Nestlé Human Resources Policy4\\nLearning is part of the Company culture.\\nEmployees at all levels are systematically', metadata={'source': '../data/1728286846_the_nestle_hr_policy_pdf_2012.pdf', 'page': 5}),\n",
       " Document(page_content='encouraged to consider how they upgrade their \\nknowledge and skills.\\nThe Company determines training and deve-', metadata={'source': '../data/1728286846_the_nestle_hr_policy_pdf_2012.pdf', 'page': 5}),\n",
       " Document(page_content='lopment priorities. The responsibility for turning \\nthese into actions is shared between employees, \\nline managers and the Human Resources.', metadata={'source': '../data/1728286846_the_nestle_hr_policy_pdf_2012.pdf', 'page': 5}),\n",
       " Document(page_content='Experience and on-the-job training are the \\nprimary source of learning. Managers are \\nresponsible for guiding and coaching employees', metadata={'source': '../data/1728286846_the_nestle_hr_policy_pdf_2012.pdf', 'page': 5}),\n",
       " Document(page_content='to succeed in their current positions.  \\nNestlé employees understand the importance', metadata={'source': '../data/1728286846_the_nestle_hr_policy_pdf_2012.pdf', 'page': 5}),\n",
       " Document(page_content='of continuous improvement, as well as sharing knowledge and ideas freely with others. Practices such as lateral professional development, extension', metadata={'source': '../data/1728286846_the_nestle_hr_policy_pdf_2012.pdf', 'page': 5}),\n",
       " Document(page_content='of responsibilities, and cross functional teams are encouraged to acquire additional skills, enrich job content and widen accountability.', metadata={'source': '../data/1728286846_the_nestle_hr_policy_pdf_2012.pdf', 'page': 5}),\n",
       " Document(page_content='Nestlé also offers a comprehensive range of \\ntraining activities and methodologies to support \\neveryone’s learning and growth. Attending', metadata={'source': '../data/1728286846_the_nestle_hr_policy_pdf_2012.pdf', 'page': 5}),\n",
       " Document(page_content='a programme should never be considered as a reward but as a component of on-going \\ndevelopment.\\nAdditionally, corporate leadership programmes', metadata={'source': '../data/1728286846_the_nestle_hr_policy_pdf_2012.pdf', 'page': 5}),\n",
       " Document(page_content='help us develop and retain the best-qualified \\nmanagement. Leaders have the opportunity \\nto attend either international training courses', metadata={'source': '../data/1728286846_the_nestle_hr_policy_pdf_2012.pdf', 'page': 5}),\n",
       " Document(page_content='at Rive-Reine, which build integrated business understanding and solidify and reinforce Nestlé values and principles, or programmes conducted', metadata={'source': '../data/1728286846_the_nestle_hr_policy_pdf_2012.pdf', 'page': 5}),\n",
       " Document(page_content='by our strategic learning partners.  Training and learning\\nAt Nestlé, a high performance culture supported by', metadata={'source': '../data/1728286846_the_nestle_hr_policy_pdf_2012.pdf', 'page': 5}),\n",
       " Document(page_content='differentiated rewards and development is key to \\nthe delivery of individual and business objectives.', metadata={'source': '../data/1728286846_the_nestle_hr_policy_pdf_2012.pdf', 'page': 5}),\n",
       " Document(page_content='This is driven by the alignment of clear and chal-  \\nlenging responsibilities and ensuring that employ-', metadata={'source': '../data/1728286846_the_nestle_hr_policy_pdf_2012.pdf', 'page': 5}),\n",
       " Document(page_content='ees are aware of how their work impacts Nestlé.\\nThe line manager and employee work together \\nto ensure that challenging objectives are set and', metadata={'source': '../data/1728286846_the_nestle_hr_policy_pdf_2012.pdf', 'page': 5}),\n",
       " Document(page_content='effectively evaluated throughout the year. This', metadata={'source': '../data/1728286846_the_nestle_hr_policy_pdf_2012.pdf', 'page': 5}),\n",
       " Document(page_content='further enables managers to acknowledge high performance and reward employees accordingly, while ensuring low performance is properly', metadata={'source': '../data/1728286846_the_nestle_hr_policy_pdf_2012.pdf', 'page': 5}),\n",
       " Document(page_content='managed with integrity.\\nEmployees receive regular feedback on their', metadata={'source': '../data/1728286846_the_nestle_hr_policy_pdf_2012.pdf', 'page': 5}),\n",
       " Document(page_content='performance and career aspirations through a variety of tools and processes such as the', metadata={'source': '../data/1728286846_the_nestle_hr_policy_pdf_2012.pdf', 'page': 5}),\n",
       " Document(page_content='Performance Evaluation process (PE), the  Progress and Development Guide (PDG) and  360° assessments. Each manager dedicates the', metadata={'source': '../data/1728286846_the_nestle_hr_policy_pdf_2012.pdf', 'page': 5}),\n",
       " Document(page_content='necessary time to the monitoring of objectives and \\nregular coaching of employees through the year. \\nEach employee, supported by the line manager,', metadata={'source': '../data/1728286846_the_nestle_hr_policy_pdf_2012.pdf', 'page': 5}),\n",
       " Document(page_content='is in charge of her or his own professional \\ndevelopment, whereby the employee is', metadata={'source': '../data/1728286846_the_nestle_hr_policy_pdf_2012.pdf', 'page': 5}),\n",
       " Document(page_content='encouraged to express career objectives and expectations in an open dialogue. We aim to retain and motivate employees by offering attractive but', metadata={'source': '../data/1728286846_the_nestle_hr_policy_pdf_2012.pdf', 'page': 5}),\n",
       " Document(page_content='realistic career moves allowing them to develop \\ntheir skills in the long-term.Given the importance Nestlé puts on cultural', metadata={'source': '../data/1728286846_the_nestle_hr_policy_pdf_2012.pdf', 'page': 5}),\n",
       " Document(page_content='diversity, employees who are interested in inter-national assignments can be given the opportunity to work in different countries. The international', metadata={'source': '../data/1728286846_the_nestle_hr_policy_pdf_2012.pdf', 'page': 5}),\n",
       " Document(page_content='dimension of the Group is used as a competitive', metadata={'source': '../data/1728286846_the_nestle_hr_policy_pdf_2012.pdf', 'page': 5}),\n",
       " Document(page_content='advantage to retain and develop talented people.\\nAt Nestlé, promotions are based on sustained', metadata={'source': '../data/1728286846_the_nestle_hr_policy_pdf_2012.pdf', 'page': 5}),\n",
       " Document(page_content='performance from a results and behaviour standpoint, as well as future potential. The', metadata={'source': '../data/1728286846_the_nestle_hr_policy_pdf_2012.pdf', 'page': 5}),\n",
       " Document(page_content='Company undertakes an active and rigorous succession planning process at all levels of the organisation to ensure that there is a strong', metadata={'source': '../data/1728286846_the_nestle_hr_policy_pdf_2012.pdf', 'page': 5}),\n",
       " Document(page_content='pipeline of successors ready to meet future needs.   \\nWe are committed to ensuring sustainable', metadata={'source': '../data/1728286846_the_nestle_hr_policy_pdf_2012.pdf', 'page': 5}),\n",
       " Document(page_content='conditions for a gender balanced and diverse company. As such, Nestlé has focused on remo-', metadata={'source': '../data/1728286846_the_nestle_hr_policy_pdf_2012.pdf', 'page': 5}),\n",
       " Document(page_content='ving barriers to career progression for women and men by developing a more flexible work environment, initiating mentoring schemes,', metadata={'source': '../data/1728286846_the_nestle_hr_policy_pdf_2012.pdf', 'page': 5}),\n",
       " Document(page_content='having flexible career paths and providing dual \\ncareer support.\\nHR management provides the support for', metadata={'source': '../data/1728286846_the_nestle_hr_policy_pdf_2012.pdf', 'page': 5}),\n",
       " Document(page_content='implementing the necessary tools, and partners \\nwith line managers to prepare the resources', metadata={'source': '../data/1728286846_the_nestle_hr_policy_pdf_2012.pdf', 'page': 5}),\n",
       " Document(page_content='necessary for the continued development of people and the Company.\\nCorporate policy: \\nExpatriation Policy Talent, development', metadata={'source': '../data/1728286846_the_nestle_hr_policy_pdf_2012.pdf', 'page': 5}),\n",
       " Document(page_content='and performance management', metadata={'source': '../data/1728286846_the_nestle_hr_policy_pdf_2012.pdf', 'page': 5}),\n",
       " Document(page_content='The Nestlé Human Resources Policy5\\nSince its founding, Nestlé has built a culture \\nbased on values of trust, mutual respect and', metadata={'source': '../data/1728286846_the_nestle_hr_policy_pdf_2012.pdf', 'page': 6}),\n",
       " Document(page_content='dialogue. Nestlé management and employees all', metadata={'source': '../data/1728286846_the_nestle_hr_policy_pdf_2012.pdf', 'page': 6}),\n",
       " Document(page_content='over the world work daily to create and maintain positive individual and collective relationships, and are expected to do so as a core part of their', metadata={'source': '../data/1728286846_the_nestle_hr_policy_pdf_2012.pdf', 'page': 6}),\n",
       " Document(page_content='job.\\nNestlé not only upholds the freedom of \\nassociation of its employees and the effective \\nrecognition of the right to collective bargaining,', metadata={'source': '../data/1728286846_the_nestle_hr_policy_pdf_2012.pdf', 'page': 6}),\n",
       " Document(page_content='but also ensures that direct and frequent \\ncommunication is established in the workplace. While dialogue with trade unions is essential, it', metadata={'source': '../data/1728286846_the_nestle_hr_policy_pdf_2012.pdf', 'page': 6}),\n",
       " Document(page_content='does not replace the close relationship that our \\nmanagement maintains with all employees.\\nIn the spirit of continuous improvement, we', metadata={'source': '../data/1728286846_the_nestle_hr_policy_pdf_2012.pdf', 'page': 6}),\n",
       " Document(page_content='encourage two-way dialogue with our employees that goes beyond the traditional aspects of collective bargaining in order to share knowledge and to', metadata={'source': '../data/1728286846_the_nestle_hr_policy_pdf_2012.pdf', 'page': 6}),\n",
       " Document(page_content='jointly find opportunities related to important matters such as Creating Shared Value,', metadata={'source': '../data/1728286846_the_nestle_hr_policy_pdf_2012.pdf', 'page': 6}),\n",
       " Document(page_content='the health and safety in the workplace and our \\nconcern for the environment.\\nThe Company and employee representatives', metadata={'source': '../data/1728286846_the_nestle_hr_policy_pdf_2012.pdf', 'page': 6}),\n",
       " Document(page_content='are expected to make all necessary efforts to develop fair and constructive dialogues, overcome the difficulties that they might encounter, reach', metadata={'source': '../data/1728286846_the_nestle_hr_policy_pdf_2012.pdf', 'page': 6}),\n",
       " Document(page_content='sustainable agreements and', metadata={'source': '../data/1728286846_the_nestle_hr_policy_pdf_2012.pdf', 'page': 6}),\n",
       " Document(page_content='implement them.\\nCorporate policy: \\nThe Nestlé Employee Relations Policy Employee relations', metadata={'source': '../data/1728286846_the_nestle_hr_policy_pdf_2012.pdf', 'page': 6}),\n",
       " Document(page_content='The Human Resources management described in this document requires and supports an \\norganisation “on the move”.', metadata={'source': '../data/1728286846_the_nestle_hr_policy_pdf_2012.pdf', 'page': 6}),\n",
       " Document(page_content='Nestlé is committed to continue the journey \\nto establishing flat and flexible structures with \\nminimal levels of management and broad spans', metadata={'source': '../data/1728286846_the_nestle_hr_policy_pdf_2012.pdf', 'page': 6}),\n",
       " Document(page_content='of control, which enable people development, \\nincrease efficiency, and ease implementation of our “Nestlé Management and Leadership Principles”.', metadata={'source': '../data/1728286846_the_nestle_hr_policy_pdf_2012.pdf', 'page': 6}),\n",
       " Document(page_content='Less hierarchical layers call for increased \\ncooperation between colleagues. This is what will make the organisation more flexible and', metadata={'source': '../data/1728286846_the_nestle_hr_policy_pdf_2012.pdf', 'page': 6}),\n",
       " Document(page_content='more accountable. Indeed, it supports today’s', metadata={'source': '../data/1728286846_the_nestle_hr_policy_pdf_2012.pdf', 'page': 6}),\n",
       " Document(page_content='and tomorrow’s business requirements for an agile and innovative company working with ever competitive intensity.', metadata={'source': '../data/1728286846_the_nestle_hr_policy_pdf_2012.pdf', 'page': 6}),\n",
       " Document(page_content='These simple beliefs have inspired us to create', metadata={'source': '../data/1728286846_the_nestle_hr_policy_pdf_2012.pdf', 'page': 6}),\n",
       " Document(page_content='an environment that puts the emphasis not just on individual responsibility and autonomy, but also on a strong willingness to support others, to work', metadata={'source': '../data/1728286846_the_nestle_hr_policy_pdf_2012.pdf', 'page': 6}),\n",
       " Document(page_content='in multi-skilled teams, and to cooperate rather \\nthan to compete internally.\\nA dynamic organisation creates a climate', metadata={'source': '../data/1728286846_the_nestle_hr_policy_pdf_2012.pdf', 'page': 6}),\n",
       " Document(page_content='of innovation and allows people to think from \\ndifferent perspectives. At Nestlé we encourage', metadata={'source': '../data/1728286846_the_nestle_hr_policy_pdf_2012.pdf', 'page': 6}),\n",
       " Document(page_content='our people to take risks. Mistakes may be made but there is always a willingness to correct and learn from them.', metadata={'source': '../data/1728286846_the_nestle_hr_policy_pdf_2012.pdf', 'page': 6}),\n",
       " Document(page_content='We combine the scope and brand strength \\nof a global company with the creativity and knowledge of a local business. As a result, people', metadata={'source': '../data/1728286846_the_nestle_hr_policy_pdf_2012.pdf', 'page': 6}),\n",
       " Document(page_content='can have far-reaching influence every day and', metadata={'source': '../data/1728286846_the_nestle_hr_policy_pdf_2012.pdf', 'page': 6}),\n",
       " Document(page_content='explore their full long-term potential, propelled by continual support and a collaborative approach by line managers and employees.', metadata={'source': '../data/1728286846_the_nestle_hr_policy_pdf_2012.pdf', 'page': 6}),\n",
       " Document(page_content='Corporate policy: \\nNestlé on the Move A flexible and dynamic organisation', metadata={'source': '../data/1728286846_the_nestle_hr_policy_pdf_2012.pdf', 'page': 6})]"
      ]
     },
     "execution_count": 4,
     "metadata": {},
     "output_type": "execute_result"
    }
   ],
   "source": [
    "from langchain.text_splitter import RecursiveCharacterTextSplitter\n",
    "text_splitter  = RecursiveCharacterTextSplitter(\n",
    "    chunk_size=150,\n",
    "    chunk_overlap=0,\n",
    "    separators=[\"\\n\\n\", \"\\n\", \"(?<=\\. )\", \" \", \"\"]\n",
    ")\n",
    "    #each chunk will have a maximum of 150 characters\n",
    "    #no character will overlap between chunks\n",
    "    #Multiple separators to split the text. It first tries to split the text at the first separator, if it cannot split the text without exceeding the chunk_size, it will move to th enext separator and so on...\n",
    "        #\"\\n\\n\": Double newline, often used to separate paragraphs.\n",
    "        #\"\\n\": Single newline, often used to separate lines.\n",
    "        #\"(?<=\\. )\": A regular expression that matches a period followed by a space, often used to separate sentences.\n",
    "            #It asserts that what immediately precedes the current position in the text must match the pattern inside the parentheses.\n",
    "            #\\. matches a literal period (dot) character. The backslash \\ is used to escape the dot, which is a special character in regular expressions that normally matches any character.\n",
    "            #The space character matches a literal space\n",
    "            #Putting it all together, (?<=\\. ) matches a position in the text that is immediately preceded by a period followed by a space. \n",
    "        #\" \": A space character, used to separate words.\n",
    "        #\"\": An empty string, which means that if no other separators work, the text will be split at any character to ensure the chunk size is respected.\n",
    "splitted_text=text_splitter.split_documents(extracted_text)\n",
    "splitted_text"
   ]
  },
  {
   "cell_type": "markdown",
   "metadata": {},
   "source": [
    "### Create a storage where the chunks are searchable"
   ]
  },
  {
   "cell_type": "markdown",
   "metadata": {},
   "source": [
    "Open instance of OpenAIEmbeddings() to convert text chunks into numerical vectors"
   ]
  },
  {
   "cell_type": "code",
   "execution_count": 5,
   "metadata": {},
   "outputs": [],
   "source": [
    "from langchain.embeddings import OpenAIEmbeddings\n",
    "embeddings = OpenAIEmbeddings()"
   ]
  },
  {
   "cell_type": "markdown",
   "metadata": {},
   "source": [
    "Create the storage with Chroma"
   ]
  },
  {
   "cell_type": "code",
   "execution_count": 6,
   "metadata": {},
   "outputs": [],
   "source": [
    "from langchain.vectorstores import Chroma\n",
    "\n",
    "vectordb = Chroma.from_documents(\n",
    "    documents=splitted_text,\n",
    "    embedding=embeddings,\n",
    "    persist_directory=\"../data/chroma_vector_x\"\n",
    ")\n",
    "    #splitted_text: is a list of text chunks. These chunks are \n",
    "        #derived from splitting a PDF document\n",
    "    #embedding model that converts text chunks into \n",
    "        #numerical vectors. These vectors represent the semantic \n",
    "        #meaning of the text and are used for similarity search.\n",
    "    #persist_directory:\n",
    "        #This specifies the directory where the vector database \n",
    "        #will be stored. The database will be persisted to disk \n",
    "        #in this directory, allowing it to be loaded and used \n",
    "        #later without needing to recompute the embeddings."
   ]
  },
  {
   "cell_type": "markdown",
   "metadata": {},
   "source": [
    "### Create a chatbot and intereact with it"
   ]
  },
  {
   "cell_type": "markdown",
   "metadata": {},
   "source": [
    "Create an instance of GTP"
   ]
  },
  {
   "cell_type": "code",
   "execution_count": 7,
   "metadata": {},
   "outputs": [],
   "source": [
    "from langchain.chat_models import ChatOpenAI\n",
    "llm = ChatOpenAI(model_name=\"gpt-3.5-turbo\", temperature=0)\n",
    "    #initializes a language model using the ChatOpenAI class \n",
    "        #with the specified model name (gpt-3.5-turbo)\n",
    "    #The temperature parameter controls the randomness of \n",
    "        #the model's output. A temperature of 0 makes the \n",
    "        #model's responses more deterministic and focused.\n",
    "        #We want the model to focus on the data that is present \n",
    "        #in the PDF doc and not be \"creative\""
   ]
  },
  {
   "cell_type": "markdown",
   "metadata": {},
   "source": [
    "Create an instance of the RetrievalQA class. When a query is made, the retriever searches the vector database for relevant documents. These documents are then used by the language model to generate a more accurate and contextually relevant answer."
   ]
  },
  {
   "cell_type": "code",
   "execution_count": 8,
   "metadata": {},
   "outputs": [],
   "source": [
    "from langchain.chains import RetrievalQA\n",
    "Retriever_chain = RetrievalQA.from_chain_type(\n",
    "    llm, \\\n",
    "    retriever=vectordb.as_retriever(), \\\n",
    "    return_source_documents=True \\\n",
    ")\n",
    "    #llm: The language model instance (llm) created earlier.\n",
    "    #retriever=vectordb.as_retriever():\n",
    "        #vectordb.as_retriever() converts the previously created \n",
    "        #vector database (vectordb) into a retriever object. \n",
    "        #This retriever can be used to find relevant documents \n",
    "        #based on a query.\n",
    "    #return_source_documents=True:\n",
    "        #This parameter indicates that the source documents \n",
    "        #used to generate the answer should be returned along \n",
    "        #with the answer itself."
   ]
  },
  {
   "cell_type": "markdown",
   "metadata": {},
   "source": [
    "Create the chatbot"
   ]
  },
  {
   "cell_type": "code",
   "execution_count": 9,
   "metadata": {
    "tags": []
   },
   "outputs": [
    {
     "name": "stdin",
     "output_type": "stream",
     "text": [
      "\n",
      "Enter a query:  working conditions at Nestlé\n"
     ]
    },
    {
     "name": "stdout",
     "output_type": "stream",
     "text": [
      "\n",
      "\n",
      "> Question:\n",
      "working conditions at Nestlé\n",
      "\n",
      "> Answer (took 2.58 s.):\n",
      "Nestlé upholds the freedom of association of its employees and the effective recognition of the right to collective bargaining. This commitment suggests that Nestlé aims to provide fair and respectful working conditions for its employees.\n"
     ]
    },
    {
     "name": "stdin",
     "output_type": "stream",
     "text": [
      "\n",
      "Enter a query:  number of working hours in Nestlé\n"
     ]
    },
    {
     "name": "stdout",
     "output_type": "stream",
     "text": [
      "\n",
      "\n",
      "> Question:\n",
      "number of working hours in Nestlé\n",
      "\n",
      "> Answer (took 1.84 s.):\n",
      "I don't have specific information on the number of working hours at Nestlé. It would be best to check directly with Nestlé or refer to their official policies for details on working hours.\n"
     ]
    },
    {
     "name": "stdin",
     "output_type": "stream",
     "text": [
      "\n",
      "Enter a query:  parental leave policy in Nestlé\n"
     ]
    },
    {
     "name": "stdout",
     "output_type": "stream",
     "text": [
      "\n",
      "\n",
      "> Question:\n",
      "parental leave policy in Nestlé\n",
      "\n",
      "> Answer (took 2.8 s.):\n",
      "Based on the provided context, it seems that the focus is on the Nestlé Human Resources Policy in general, rather than specifically on parental leave. Unfortunately, there is no specific information provided about the parental leave policy at Nestlé. For accurate and detailed information on Nestlé's parental leave policy, it would be best to refer directly to Nestlé's official human resources documentation or contact their HR department.\n"
     ]
    },
    {
     "name": "stdin",
     "output_type": "stream",
     "text": [
      "\n",
      "Enter a query:  exit\n"
     ]
    }
   ],
   "source": [
    "#import time to count procesing time\n",
    "import time\n",
    "\n",
    "#infinite loop\n",
    "while True:\n",
    "    \n",
    "    #ask the user for the query and save it in query\n",
    "    query = input(\"\\nEnter a query: \")\n",
    "\n",
    "    #stop if exit, if empty continue asking for input\n",
    "    if query == \"exit\":\n",
    "        break\n",
    "    if query.strip() == \"\":\n",
    "        continue\n",
    "\n",
    "    #get the answer from the chain and count time\n",
    "    start = time.time()\n",
    "    res=Retriever_chain(query)\n",
    "    end = time.time()\n",
    "\n",
    "    print(\"\\n\\n> Question:\")\n",
    "    print(query)\n",
    "\n",
    "    print(f\"\\n> Answer (took {round(end - start, 2)} s.):\")\n",
    "    print(res['result'])\n",
    "#query within scope\n",
    "    #working conditions at Nestlé\n",
    "#query outside scope\n",
    "    #number of working hours in Nestlé\n",
    "#query within scope about parental leave\n",
    "    #parental leave policy in Nestlé"
   ]
  },
  {
   "cell_type": "markdown",
   "metadata": {},
   "source": [
    "### Create a prompt template and add it to the chabot"
   ]
  },
  {
   "cell_type": "markdown",
   "metadata": {},
   "source": [
    "Create the template"
   ]
  },
  {
   "cell_type": "code",
   "execution_count": 10,
   "metadata": {},
   "outputs": [],
   "source": [
    "template_content = \"\"\"\n",
    "    Answer the following question:\n",
    "    \n",
    "    Question: {{ question }}\n",
    "\n",
    "    Additional context: {{ additional_context }}\n",
    "\"\"\"\n",
    "with open(\"../data/prompt_template.jinja2\", \"w\") as file:\n",
    "    file.write(template_content)"
   ]
  },
  {
   "cell_type": "markdown",
   "metadata": {},
   "source": [
    "Load the prompt template"
   ]
  },
  {
   "cell_type": "code",
   "execution_count": 11,
   "metadata": {},
   "outputs": [],
   "source": [
    "from jinja2 import Environment, FileSystemLoader\n",
    "env = Environment(loader=FileSystemLoader(\"../data/\"))\n",
    "template = env.get_template(\"./prompt_template.jinja2\")"
   ]
  },
  {
   "cell_type": "markdown",
   "metadata": {},
   "source": [
    "Run the chatbot"
   ]
  },
  {
   "cell_type": "code",
   "execution_count": 12,
   "metadata": {},
   "outputs": [
    {
     "name": "stdin",
     "output_type": "stream",
     "text": [
      "\n",
      "Enter a query:  working conditions at Nestlé\n"
     ]
    },
    {
     "name": "stdout",
     "output_type": "stream",
     "text": [
      "\n",
      "\n",
      "> Formatted Query:\n",
      "\n",
      "    Answer the following question:\n",
      "    \n",
      "    Question: working conditions at Nestlé\n",
      "\n",
      "    Additional context: \n",
      "\n",
      "> Answer (took 2.59 s.):\n",
      "Based on the provided context, Nestlé emphasizes being a flexible and dynamic organization that upholds the freedom of association of its employees and the right to collective bargaining. This suggests that Nestlé likely strives to maintain fair and respectful working conditions for its employees.\n"
     ]
    },
    {
     "name": "stdin",
     "output_type": "stream",
     "text": [
      "\n",
      "Enter a query:  number of working hours in Nestlé\n"
     ]
    },
    {
     "name": "stdout",
     "output_type": "stream",
     "text": [
      "\n",
      "\n",
      "> Formatted Query:\n",
      "\n",
      "    Answer the following question:\n",
      "    \n",
      "    Question: number of working hours in Nestlé\n",
      "\n",
      "    Additional context: \n",
      "\n",
      "> Answer (took 1.79 s.):\n",
      "I'm sorry, but without additional context or specific information provided, I am unable to answer the question about the number of working hours in Nestlé.\n"
     ]
    },
    {
     "name": "stdin",
     "output_type": "stream",
     "text": [
      "\n",
      "Enter a query:  parental leave policy in Nestlé\n"
     ]
    },
    {
     "name": "stdout",
     "output_type": "stream",
     "text": [
      "\n",
      "\n",
      "> Formatted Query:\n",
      "\n",
      "    Answer the following question:\n",
      "    \n",
      "    Question: parental leave policy in Nestlé\n",
      "\n",
      "    Additional context: \n",
      "            Redirect to the FAQ page:\n",
      "            https://www.nestleusa.com/parents/parental-leave-frequently-asked-questions\n",
      "        \n",
      "\n",
      "> Answer (took 3.46 s.):\n",
      "I don't know the specific details of the parental leave policy at Nestlé. For accurate and up-to-date information, I recommend visiting the FAQ page provided: https://www.nestleusa.com/parents/parental-leave-frequently-asked-questions\n"
     ]
    },
    {
     "name": "stdin",
     "output_type": "stream",
     "text": [
      "\n",
      "Enter a query:  exit\n"
     ]
    }
   ],
   "source": [
    "#import time to count procesing time\n",
    "import time\n",
    "\n",
    "#infinite loop\n",
    "while True:\n",
    "\n",
    "    #ask the user for the query and save it in query\n",
    "    query = input(\"\\nEnter a query: \")\n",
    "\n",
    "    #stop if exit, if empty continue asking for input\n",
    "    if query == \"exit\":\n",
    "        break\n",
    "    if query.strip() == \"\":\n",
    "        continue\n",
    "\n",
    "    #add a link to redirect if the query is about parental leaves\n",
    "    if (\"maternal leave\" in query) | (\"parental leave\" in query):\n",
    "        additional_context = \"\"\"\n",
    "            Redirect to the FAQ page:\n",
    "            https://www.nestleusa.com/parents/parental-leave-frequently-asked-questions\n",
    "        \"\"\"\n",
    "    else: \n",
    "        additional_context = \"\"\n",
    "\n",
    "    #render the template \n",
    "    formatted_query = template.render(\n",
    "        question=query, \\\n",
    "        additional_context=additional_context \\\n",
    "    )\n",
    "\n",
    "    #get the answer from the chain and count time\n",
    "    start = time.time()\n",
    "    res=Retriever_chain(formatted_query)\n",
    "    end = time.time()\n",
    "\n",
    "    print(\"\\n\\n> Formatted Query:\")\n",
    "    print(formatted_query)\n",
    "\n",
    "    print(f\"\\n> Answer (took {round(end - start, 2)} s.):\")\n",
    "    print(res['result'])\n",
    "#query within scope\n",
    "    #working conditions at Nestlé\n",
    "#query outside scope\n",
    "    #number of working hours in Nestlé\n",
    "#query within scope about parental leave\n",
    "    #parental leave policy in Nestlé"
   ]
  },
  {
   "cell_type": "markdown",
   "metadata": {},
   "source": [
    "### Create an user-friendly interface using Gradio"
   ]
  },
  {
   "cell_type": "markdown",
   "metadata": {},
   "source": [
    "Define the function to be wrapped:"
   ]
  },
  {
   "cell_type": "code",
   "execution_count": 13,
   "metadata": {},
   "outputs": [],
   "source": [
    "def chatbot(query):\n",
    "\n",
    "    #add a link to redirect if the query is about parental leaves\n",
    "    if (\"maternal leave\" in query) | (\"parental leave\" in query):\n",
    "        additional_context = \"\"\"\n",
    "            Redirect to the FAQ page:\n",
    "            https://www.nestleusa.com/parents/parental-leave-frequently-asked-questions\n",
    "        \"\"\"\n",
    "    else: \n",
    "        additional_context = \"\"\n",
    "\n",
    "    #render the template \n",
    "    formatted_query = template.render(\n",
    "        question=query, \\\n",
    "        additional_context=additional_context \\\n",
    "    )\n",
    "    \n",
    "    #get the answer from the chain\n",
    "    res=Retriever_chain(formatted_query)\n",
    "    \n",
    "    #return the answer\n",
    "    return res[\"result\"]"
   ]
  },
  {
   "cell_type": "markdown",
   "metadata": {},
   "source": [
    "Run it to check"
   ]
  },
  {
   "cell_type": "code",
   "execution_count": 14,
   "metadata": {},
   "outputs": [
    {
     "data": {
      "text/plain": [
       "'Based on the provided context, Nestlé emphasizes being a flexible and dynamic organization that upholds the freedom of association of its employees and the right to collective bargaining. This suggests that Nestlé likely strives to maintain fair and positive working conditions for its employees.'"
      ]
     },
     "execution_count": 14,
     "metadata": {},
     "output_type": "execute_result"
    }
   ],
   "source": [
    "chatbot(\"working conditions at Nestlé\")"
   ]
  },
  {
   "cell_type": "markdown",
   "metadata": {},
   "source": [
    "Wrap the function using Gradio"
   ]
  },
  {
   "cell_type": "code",
   "execution_count": 15,
   "metadata": {},
   "outputs": [],
   "source": [
    "#!pip install --upgrade gradio\n",
    "import gradio as gr"
   ]
  },
  {
   "cell_type": "code",
   "execution_count": 16,
   "metadata": {},
   "outputs": [],
   "source": [
    "#define the Gradio interface\n",
    "iface = gr.Interface(\n",
    "    fn=chatbot,\n",
    "    inputs=\"text\",\n",
    "    outputs=\"text\",\n",
    "    title=\"Nestlé HR Chatbot\",\n",
    "    description=\"Ask about the HR policy of Nestlé.\"\n",
    ")"
   ]
  },
  {
   "cell_type": "markdown",
   "metadata": {},
   "source": [
    "Launch the interface with share=True to create a public link"
   ]
  },
  {
   "cell_type": "code",
   "execution_count": 17,
   "metadata": {},
   "outputs": [
    {
     "name": "stdout",
     "output_type": "stream",
     "text": [
      "* Running on local URL:  http://127.0.0.1:7860\n",
      "* Running on public URL: https://58c47740defecfccb1.gradio.live\n",
      "\n",
      "This share link expires in 72 hours. For free permanent hosting and GPU upgrades, run `gradio deploy` from the terminal in the working directory to deploy to Hugging Face Spaces (https://huggingface.co/spaces)\n"
     ]
    },
    {
     "data": {
      "text/html": [
       "<div><iframe src=\"https://58c47740defecfccb1.gradio.live\" width=\"100%\" height=\"500\" allow=\"autoplay; camera; microphone; clipboard-read; clipboard-write;\" frameborder=\"0\" allowfullscreen></iframe></div>"
      ],
      "text/plain": [
       "<IPython.core.display.HTML object>"
      ]
     },
     "metadata": {},
     "output_type": "display_data"
    },
    {
     "data": {
      "text/plain": []
     },
     "execution_count": 17,
     "metadata": {},
     "output_type": "execute_result"
    }
   ],
   "source": [
    "iface.launch(share=True)\n",
    "#iface.close() #to close the server\n",
    "    #query within scope\n",
    "        #working conditions at Nestlé\n",
    "    #query outside scope\n",
    "        #number of working hours in Nestlé\n",
    "    #query within scope about parental leave\n",
    "        #parental leave policy in Nestlé"
   ]
  }
 ],
 "metadata": {
  "kernelspec": {
   "display_name": "Python 3 [3.10]",
   "language": "python",
   "name": "python3"
  },
  "language_info": {
   "codemirror_mode": {
    "name": "ipython",
    "version": 3
   },
   "file_extension": ".py",
   "mimetype": "text/x-python",
   "name": "python",
   "nbconvert_exporter": "python",
   "pygments_lexer": "ipython3",
   "version": "3.10.2"
  }
 },
 "nbformat": 4,
 "nbformat_minor": 4
}
