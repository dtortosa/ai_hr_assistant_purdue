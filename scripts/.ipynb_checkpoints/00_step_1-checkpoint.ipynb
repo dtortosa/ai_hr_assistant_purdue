{
 "cells": [
  {
   "cell_type": "markdown",
   "metadata": {},
   "source": [
    "# test "
   ]
  },
  {
   "cell_type": "markdown",
   "metadata": {},
   "source": [
    "### Setup the environment"
   ]
  },
  {
   "cell_type": "code",
   "execution_count": 2,
   "metadata": {},
   "outputs": [],
   "source": [
    "#import dynamically \"pysqlite3\"\n",
    "__import__(\"pysqlite3\")\n",
    "\n",
    "#then aliased to \"sqlite3\" in the sys.module dictionary\n",
    "import sys\n",
    "sys.modules[\"sqlite3\"] = sys.modules[\"pysqlite3\"]\n",
    "    #This means that any subsequent import of sqlite3 will actually use the pysqlite3 module.\n",
    "    #sqlite3 is the standard library module for SQLite in Python, while pysqlite3 is a third-party alternative that may offer additional features or updates.\n",
    "\n",
    "#other libraries\n",
    "import os\n",
    "import openai\n",
    "import sys"
   ]
  },
  {
   "cell_type": "markdown",
   "metadata": {},
   "source": [
    "## Define the document loader"
   ]
  },
  {
   "cell_type": "code",
   "execution_count": null,
   "metadata": {},
   "outputs": [],
   "source": [
    "#we will use PyPDFLoader\n",
    "from langchain.document_loaders import PyPDFLoader\n",
    "    #pip install langchain langchain_core langchain_openai langchain_qdrant langchain_text_splitters\n",
    "    #pip install --upgrade langchain_community pypdf"
   ]
  },
  {
   "cell_type": "code",
   "execution_count": 3,
   "metadata": {},
   "outputs": [
    {
     "name": "stdout",
     "output_type": "stream",
     "text": [
      "00_step_1.ipynb\n"
     ]
    }
   ],
   "source": [
    "ls"
   ]
  },
  {
   "cell_type": "code",
   "execution_count": null,
   "metadata": {},
   "outputs": [],
   "source": [
    "Doc_loader = PyPDFLoader(\"bcg-2022-annual-sustainability-report-apr-2023.pdf\")\n",
    "extracted_text = Doc_loader.load()"
   ]
  }
 ],
 "metadata": {
  "kernelspec": {
   "display_name": "Python 3",
   "language": "python",
   "name": "python3"
  },
  "language_info": {
   "codemirror_mode": {
    "name": "ipython",
    "version": 3
   },
   "file_extension": ".py",
   "mimetype": "text/x-python",
   "name": "python",
   "nbconvert_exporter": "python",
   "pygments_lexer": "ipython3",
   "version": "3.10.12"
  }
 },
 "nbformat": 4,
 "nbformat_minor": 2
}
